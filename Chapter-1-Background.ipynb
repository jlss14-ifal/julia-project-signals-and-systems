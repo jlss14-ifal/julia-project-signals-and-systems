{
 "cells": [
  {
   "cell_type": "markdown",
   "id": "927508d1",
   "metadata": {},
   "source": [
    "## EXEMPLO DE COMPUTADOR CB.1 (CAPÍTULO B, BACKGROUND, 25)\n",
    "\n",
    "Usando a função `cart2pol` do MATLAB, converta os seguintes números da forma Cartesiana para a forma polar:\n",
    "\n",
    "a) z = 2 + 3\n",
    "\n",
    "b) z = −2 + j1"
   ]
  },
  {
   "cell_type": "code",
   "execution_count": 21,
   "id": "20e543fe",
   "metadata": {
    "tags": []
   },
   "outputs": [
    {
     "data": {
      "text/plain": [
       "cart2pol (generic function with 1 method)"
      ]
     },
     "execution_count": 21,
     "metadata": {},
     "output_type": "execute_result"
    }
   ],
   "source": [
    "\n",
    "# Converte coordenadas cartesianas para polares\n",
    "function cart2pol(x, y)\n",
    "    z_rad = atan(y, x)\n",
    "    z_mag = hypot(x, y)\n",
    "    z_deg = z_rad * (180 / π)\n",
    "    return z_rad, z_mag, z_deg\n",
    "end\n"
   ]
  },
  {
   "cell_type": "code",
   "execution_count": 22,
   "id": "75fa68a0",
   "metadata": {
    "tags": []
   },
   "outputs": [
    {
     "name": "stdout",
     "output_type": "stream",
     "text": [
      "(a) z_mag = 3.605551275463989; z_rad = 0.982793723247329; z_deg = 56.309932474020215\n"
     ]
    }
   ],
   "source": [
    "\n",
    "# A)\n",
    "\n",
    "# Chama a função cart2pol com os valores 2 e 3\n",
    "z_rad, z_mag, z_deg = cart2pol(2, 3)\n",
    "\n",
    "# Exibe os resultados\n",
    "println(\"(a) z_mag = $z_mag; z_rad = $z_rad; z_deg = $z_deg\")\n"
   ]
  },
  {
   "cell_type": "code",
   "execution_count": 23,
   "id": "075d0dec",
   "metadata": {
    "tags": []
   },
   "outputs": [
    {
     "name": "stdout",
     "output_type": "stream",
     "text": [
      "(a) z_mag = 2.23606797749979; z_rad = 2.677945044588987; z_deg = 153.434948822922\n"
     ]
    }
   ],
   "source": [
    "\n",
    "# B)\n",
    "\n",
    "# Chama a função cart2pol com os valores -2 e 1\n",
    "z_rad, z_mag, z_deg = cart2pol(-2, 1)\n",
    "\n",
    "# Exibe os resultados\n",
    "println(\"(a) z_mag = $z_mag; z_rad = $z_rad; z_deg = $z_deg\")\n"
   ]
  },
  {
   "cell_type": "markdown",
   "id": "d62a2586-f82d-4155-b7bd-240c1913c18c",
   "metadata": {},
   "source": [
    "## EXEMPLO DE COMPUTADOR CB.2 (CAPÍTULO B, BACKGROUND, 26)\n",
    "\n",
    "Usando a função `pol2cart` do MATLAB, converta o número z = 4e<sup>–j(3π /4)</sup> da forma polar para a forma Cartesiana.\n"
   ]
  },
  {
   "cell_type": "code",
   "execution_count": 24,
   "id": "009cd963-8b36-4282-bdb3-854ffb21e570",
   "metadata": {
    "tags": []
   },
   "outputs": [
    {
     "data": {
      "text/plain": [
       "pol2cart (generic function with 1 method)"
      ]
     },
     "execution_count": 24,
     "metadata": {},
     "output_type": "execute_result"
    }
   ],
   "source": [
    "\n",
    "# Função para converter coordenadas polares em cartesianas\n",
    "function pol2cart(theta, r)\n",
    "    x = r * cos(theta)\n",
    "    y = r * sin(theta)\n",
    "    return x, y\n",
    "end\n"
   ]
  },
  {
   "cell_type": "code",
   "execution_count": 25,
   "id": "b38228d5-e2c9-4c4e-ad26-4ee07a68d370",
   "metadata": {
    "tags": []
   },
   "outputs": [
    {
     "name": "stdout",
     "output_type": "stream",
     "text": [
      "z_real = -2.82842712474619; z_imag = -2.8284271247461903\n"
     ]
    }
   ],
   "source": [
    "\n",
    "# Chamada da função com os valores desejados\n",
    "z_real, z_imag = pol2cart(-3 * π / 4, 4)\n",
    "\n",
    "# Exibição dos resultados\n",
    "println(\"z_real = $z_real; z_imag = $z_imag\")\n"
   ]
  },
  {
   "cell_type": "markdown",
   "id": "9f64cb0f-f02a-4a50-9be1-c97023aa4cf0",
   "metadata": {},
   "source": [
    "## EXEMPLO DE COMPUTADOR CB.3 (CAPÍTULO B, BACKGROUND, 27)\n",
    "\n",
    "Determine z<sub>1</sub> z<sub>2</sub> e z<sub>1</sub>/z<sub>2</sub> se\n",
    "\n",
    "- z<sub>1</sub> = 3 + j4\n",
    "- z<sub>1</sub> = 2 + j3\n"
   ]
  },
  {
   "cell_type": "code",
   "execution_count": 26,
   "id": "ef1018ac-54c0-4239-929f-5417015eaa7d",
   "metadata": {},
   "outputs": [
    {
     "name": "stdout",
     "output_type": "stream",
     "text": [
      "z₁*z₂ = -6 + 17im; z₁/z₂ = 1.3846153846153848 - 0.07692307692307697im\n"
     ]
    }
   ],
   "source": [
    "\n",
    "# Defina os números complexos z_1 e z_2\n",
    "z₁ = 3 + 4im\n",
    "z₂ = 2 + 3im\n",
    "\n",
    "# Realize as operações de multiplicação e divisão\n",
    "z₁z₂ = z_1 * z_2\n",
    "z₁_div_z₂ = z_1 / z_2\n",
    "\n",
    "# Exiba os resultados\n",
    "println(\"z₁*z₂ = $z₁z₂; z₁/z₂ = $z₁_div_z₂\")\n"
   ]
  },
  {
   "cell_type": "markdown",
   "id": "a16e5f28-3ebf-498e-89df-7ba961b9bc92",
   "metadata": {},
   "source": [
    "## EXEMPLO DE COMPUTADOR CB.4 (CAPÍTULO B, BACKGROUND, 34)\n",
    "\n",
    "Expresse f(t) = –3 cos (ω<sub>0</sub>t) + 4 sen (ω<sub>0</sub>t) como uma única senoide.\n",
    "\n",
    "---\n",
    "\n",
    "Note que <i>a</i> cos (ω<sub>0</sub>t) + <i>b</i> sen (ω<sub>0</sub>t) = <i>C</i> cos \\[ω<sub>0</sub>t + tan<sup>–1</sup>(<i>–c/a</i>)\\]. Logo, a amplitude C e o ângulo θ da senóide resultante são o módulo e o ângulo do número complexo <i>a – jb</i>.\n"
   ]
  },
  {
   "cell_type": "code",
   "execution_count": 27,
   "id": "994b3dca-32f0-4c24-aed6-ec92cc13c58a",
   "metadata": {
    "tags": []
   },
   "outputs": [
    {
     "name": "stdout",
     "output_type": "stream",
     "text": [
      "C = 5.0; 𝛩 = -2.214297435588181; 𝛩° = -126.86989764584402\n"
     ]
    }
   ],
   "source": [
    "\n",
    "# Defina os valores de a e b\n",
    "a = -3\n",
    "b = 4\n",
    "\n",
    "# Converta de coordenadas cartesianas para polares\n",
    "𝛩, C = cart2pol(a, -b)\n",
    "\n",
    "# Converta o ângulo de radianos para graus\n",
    "𝛩° = (180 / π) * 𝛩\n",
    "\n",
    "# Exiba os resultados\n",
    "println(\"C = $C; 𝛩 = $𝛩; 𝛩° = $𝛩°\")\n"
   ]
  },
  {
   "cell_type": "code",
   "execution_count": null,
   "id": "b9ceb2ea-ff05-4cdb-87ae-d3d19db3aa71",
   "metadata": {},
   "outputs": [],
   "source": []
  }
 ],
 "metadata": {
  "kernelspec": {
   "display_name": "Julia 1.9.3",
   "language": "julia",
   "name": "julia-1.9"
  },
  "language_info": {
   "file_extension": ".jl",
   "mimetype": "application/julia",
   "name": "julia",
   "version": "1.9.3"
  }
 },
 "nbformat": 4,
 "nbformat_minor": 5
}
